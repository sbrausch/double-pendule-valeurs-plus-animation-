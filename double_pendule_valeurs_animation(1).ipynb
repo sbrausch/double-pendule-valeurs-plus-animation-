{
 "cells": [
  {
   "cell_type": "markdown",
   "metadata": {},
   "source": [
    "\n",
    "Ce notebook a pour but de réaliser une analyse numérique des équations du mouvement d'un pendule double.  En effet, ces équations ne sont pas résolubles de manières analytiques, c'est donc le seul moyen de pouvoir connaître la position de notre système en fonction du temps.  \n",
    "Pour cela nous devrons faire appel à une amélioration de la méthode d'Euler, appelée Runge-Kutta d'ordre 4 (RK4) car le pendule double a un régime chaotique, c'est à dire que son état à un moment donné dépend très fortement de son état initial et que donc chaque erreur dans la donnée de l'état du pendule dans l'espace des phases à un instant donné aura de grosses répercussions dans les valeurs suivantes.  La RK-4 permet d'améliorer la précisions de la méthode numérique et donc augmente la fiabilité des valeurs obtenues. \n",
    "\n",
    "Les coordonnées des centres de masses des deux barreaux peuvent s'écrire en fonction de l, $\\theta_1$ et $\\theta_2$ : \n",
    "\n",
    "$X_1= \\frac{l}{2}  sin (\\theta_1)$ \n",
    "\n",
    "$Y_1=\\frac{-l}{2}  cos (\\theta_1)$   \n",
    "\n",
    "$X_2= l (sin(\\theta_1) + \\frac{l}{2} sin (\\theta_2)) $ \n",
    "\n",
    "$Y_2=-l (cos(\\theta_1) + \\frac{l}{2}cos (\\theta_2))$\n",
    "\n",
    "\n",
    "On peut alors écrire le lagrangien $L=T-V$ en fonction des des nos coordonnées généralisées, il s'en suit que :\n",
    "Comme \n",
    "$L=\\frac{1}{6}ml^2 ((\\dot \\theta_2)^2 +4(\\dot\\theta_1)^2+3\\dot \\theta_1 \\dot \\theta_2 cos (\\theta_1 -\\theta_2)) + \\frac{1}{2}mgl(3cos(\\theta_1)+cos\\theta_2)$\n",
    "\n",
    "\n",
    "\n",
    "\n",
    "Par définition des impulsions $p_1$ et$p_2$ comme étant les dérivées du lagrangien par rapport à $\\dot\\theta_1$ et $\\dot\\theta_2$ respectivement, on a \n",
    "\n",
    "\n",
    "\n",
    "\n",
    "$\\dot \\theta_1 =\\frac{6}{ml^2} \\frac{2p_1  - 3cos(\\theta_1-\\theta_2)p_2}{16-9cos^2(\\theta_1 - \\theta_2)}$ \n",
    "\n",
    "$\\dot \\theta_2 =\\frac{6}{ml^2} \\frac{8p_2  - 3cos(\\theta_1-\\theta_2)p_1}{16-9cos^2(\\theta_1 - \\theta_2)}$\n",
    "\n",
    " Ensuite par les équations de Lagrange, on a également  \n",
    "\n",
    "$\\dot p_1 = - \\frac{1}{2}ml^2 (\\dot\\theta_1 \\dot\\theta_2 sin (\\theta1-\\theta2)+3\\frac{g}{l}sin\\theta_1$\n",
    "\n",
    "$\\dot p_2 = - \\frac{1}{2}ml^2 (-\\dot\\theta_1 \\dot\\theta_2 sin (\\theta1-\\theta2)+\\frac{g}{l}sin\\theta_2$\n",
    "\n",
    "Avec ces 4 équations et ainsi que nos conditions initiales sur $\\theta_1$,$\\theta_2$,$p_1$ et $p_2$, nous allons pouvoir appliquer la méthode RK4.\n",
    "\n",
    "\n",
    "\n",
    "\n",
    "\n",
    "\n",
    "\n",
    "\n",
    "\n",
    "\n"
   ]
  },
  {
   "cell_type": "code",
   "execution_count": 1,
   "metadata": {},
   "outputs": [],
   "source": [
    "\n",
    "import numpy\n",
    "from matplotlib import pyplot\n",
    "%matplotlib inline\n",
    "\n"
   ]
  },
  {
   "cell_type": "code",
   "execution_count": 2,
   "metadata": {},
   "outputs": [],
   "source": [
    "\n",
    "\n",
    "from matplotlib import animation\n",
    "from IPython.display import HTML\n",
    "from numpy import sin, cos\n",
    "import numpy as np\n",
    "import matplotlib.pyplot as plt\n",
    "import scipy.integrate as integrate\n",
    "import matplotlib.animation as animation"
   ]
  },
  {
   "cell_type": "code",
   "execution_count": 3,
   "metadata": {},
   "outputs": [],
   "source": [
    "import math\n",
    "import numpy \n",
    "from matplotlib import pyplot\n",
    "%matplotlib inline\n"
   ]
  },
  {
   "cell_type": "markdown",
   "metadata": {},
   "source": [
    "Ici on définit les paramètres ainsi que les valeurs initiales de notre pendule double."
   ]
  },
  {
   "cell_type": "code",
   "execution_count": 4,
   "metadata": {},
   "outputs": [],
   "source": [
    "m = 1.0\n",
    "g = 9.81\n",
    "L = 1.0 # attention ceci correspond au petit l dans l'introduction\n",
    "\n",
    "\n",
    "theta1_0 = numpy.pi/2\n",
    "theta2_0 = numpy.pi/2\n",
    "p1_0 = 0.0\n",
    "p2_0 = 0.0"
   ]
  },
  {
   "cell_type": "markdown",
   "metadata": {},
   "source": [
    "La méthode RK4 classique est décrite est décrite sur Wikipédia (voir dans les sources) \n",
    "\n",
    "Ici, nous avons du un peu modifier cette méthode.  En effet, ce qui nous intéresse c'est de pouvoir connaître les coordonnées \n",
    "$(\\theta_1,\\theta_2)$ pour chaque instant dans le temps séparé de dt = 0,001 s et d'arriver ainsi par étape jusqu'à t=20s. \n",
    "Le problème c'est qu'ici dans les expressions de $\\dot\\theta1$ et $\\dot\\theta_2$, il apparaît les variables $\\theta_1$,$\\theta_2$, $p_1$ et $p_2$.\n",
    "Il faudra donc également à chaque étape après avoir déterminé les valeurs de $(\\theta_1,\\theta_2)$ pour le temps t+dt également déterminer celle de $p_1$ et $p_2$ au même instant t+dt."
   ]
  },
  {
   "cell_type": "markdown",
   "metadata": {},
   "source": [
    "Ici on définit une fonction rhs_double_pendule qui assigne les différentes valeurs des k1,k2,k3,k4 pour chacunes de nos variables $\\theta_1, \\theta_2, p_1, p_2$"
   ]
  },
  {
   "cell_type": "code",
   "execution_count": 5,
   "metadata": {},
   "outputs": [],
   "source": [
    "def rhs_double_pendule (u, m, L, dt):\n",
    "    \n",
    "    theta1, theta2, p1, p2 = u\n",
    "    \n",
    "    k1th1 = (6/(m*(L**2))) * ((2 * p1 - 3 * math.cos(theta1 - theta2) * p2)/(16.0 - 9 * (math.cos(theta1 - theta2))**2))\n",
    "    k1th2 = (6/(m*(L**2))) * ((8 * p2 - 3 * math.cos(theta1 - theta2) * p1)/(16.0 - 9 * (math.cos(theta1 - theta2))**2))\n",
    "    k1p1 = -(1/2) * m*(L**2)*(k1th1 * k1th2 * math.sin(theta1 - theta2) + 3 * (g/L) * math.sin(theta1))\n",
    "    k1p2 = -(1/2) * m*(L**2)*(-k1th1 * k1th2 * math.sin(theta1 - theta2) +  (g/L) * math.sin(theta2))                       #nous calculons les k1 pour chacunes des variables, nous utiliserons ces derniers pour calculer les différents k2\n",
    "    k2th1 = (6/(m*(L**2))) * ((2 * (p1 + (dt/2)*k1p1) - 3 * math.cos((theta1 + (dt/2)*k1th1) - (theta2 + (dt/2)*k1th2 )) * (p2 + (dt/2)*k1p2))/(16.0 - 9 * (math.cos(theta1 - theta2))**2))\n",
    "    k2th2 = (6/(m*(L**2))) * ((8 * (p2 + (dt/2)*k1p2) - 3 * math.cos((theta1 + (dt/2)*k1th1 ) - (theta2 +(dt/2)*k1th2 )) * (p1 + (dt/2)*k1p1))/(16.0 - 9 * (math.cos(theta1 - theta2))**2))\n",
    "    k2p1 = -(1/2) * m*(L**2)*(k2th1 * k2th2* math.sin((theta1 +(dt/2)*k1th1 ) - (theta2 + (dt/2)*k1th2)) + 3 * (g/L) * math.sin(theta1))\n",
    "    k2p2 = -(1/2) * m*(L**2)*(-k2th1 * k2th2 * math.sin((theta1 +(dt/2)*k1th1 ) - (theta2 + (dt/2)*k1th2)) +  (g/L) * math.sin(theta2))                                                     #nous calculons les k2 pour chacunes des variables,\n",
    "    k3th1 = (6/(m*(L**2))) * ((2 * (p1 + (dt/2)*k2p1) - 3 * math.cos((theta1 + (dt/2)*k2th1 ) - (theta2 + (dt/2)*k2th2)) * (p2 + (dt/2)*k2p2))/(16.0 - 9 * (math.cos(theta1 - theta2))**2))#nous utiliserons ces derniers pour calculer les différents k3\n",
    "    k3th2 = (6/(m*(L**2))) * ((8 * (p2 + (dt/2)*k2p2 ) - 3 * math.cos((theta1 + (dt/2)*k2th1) - (theta2 + (dt/2)*k2th2)) * (p1 + (dt/2)*k2p1))/(16.0 - 9 * (math.cos(theta1 - theta2))**2))\n",
    "    k3p1 =  -(1/2) * m*(L**2)*(k3th1 * k3th2 * math.sin((theta1 + (dt/2)*k2th1) - (theta2 + (dt/2)*k2th2)) + 3 * (g/L) * math.sin(theta1))\n",
    "    k3p2 = -(1/2) * m*(L**2)*(-k3th1 * k3th2 * math.sin((theta1 + (dt/2)*k2th1) - (theta2 + (dt/2)*k2th2)) +  (g/L) * math.sin(theta2))                                         #nous calculons les k3 pour chacunes des variables\n",
    "    k4th1 = (6/(m*(L**2))) * ((2 * (p1 + dt * k3p1) - 3 * math.cos((theta1 + dt*k3th1) - (theta2 + dt * k3th2)) * (p2 + dt * k3p2))/(16.0 - 9 * (math.cos(theta1 - theta2))**2))#nous utiliserons ces derniers pour calculer les différents k4\n",
    "    k4th2 = (6/(m*(L**2))) * ((8 * (p2 + dt * k3p2) - 3 * math.cos((theta1 + dt * k3th1) - (theta2 + dt * k3th2)) * (p1 + dt * k3p1))/(16.0 - 9 * (math.cos(theta1 - theta2))**2))\n",
    "    k4p1 = -(1/2) * m*(L**2)*(k4th1 * k4th2 * math.sin((theta1 + dt * k3th1) - (theta2 + dt * k3th2)) + 3 * (g/L) * math.sin(theta1))\n",
    "    k4p2 = -(1/2) * m*(L**2)*(-k4th1 * k4th2 * math.sin((theta1 + dt * k3th1) - (theta2 + dt * k3th2)) +  (g/L) * math.sin(theta2))                        #nous calculons les k4 pour chacunes des variables\n",
    "    \n",
    "    rhs = numpy.array([ k1th1 + 2 * k2th1 + 2* k3th1 + k4th1  ,k1th2 + 2 * k2th2 + 2* k3th2 + k4th2   ,k1p1 + 2 * k2p1 + 2* k3p1 + k4p1   , k1p2 + 2 * k2p2 + 2* k3p2 + k4p2 ])\n",
    "    return rhs "
   ]
  },
  {
   "cell_type": "markdown",
   "metadata": {},
   "source": [
    "Cette fonction nous donne un tableau que nous utiliserons pour définir une fonction qui nous donnera la postion du pendule double à chaque étape dt."
   ]
  },
  {
   "cell_type": "code",
   "execution_count": 6,
   "metadata": {},
   "outputs": [],
   "source": [
    "def step (f, u,dt, *args):\n",
    "    u_new = u + (dt/6) * f(u,*args,dt)\n",
    "    return u_new"
   ]
  },
  {
   "cell_type": "markdown",
   "metadata": {},
   "source": [
    "Nous avons ici une fonction step qui ,pour chaque position du pendule double à un instant t, nous donnes une nouvelle position à l'instant t+dt."
   ]
  },
  {
   "cell_type": "code",
   "execution_count": 7,
   "metadata": {},
   "outputs": [],
   "source": [
    "T = 20.0 # durée de l'observation\n",
    "dt = 0.001 # le pas\n",
    "N = int(T/dt) + 1 #nombre d'étapes dans le temps\n",
    "u = numpy.empty((N,4)) # on crée un tableau vide que l'on va remplir\n",
    "\n",
    "u[0] = numpy.array([theta1_0, theta2_0, p1_0, p2_0 ]) # on donne notre point de départ c'est-à-dire les positions initiales\n",
    "\n",
    "for n in range (N-1):\n",
    "    u[n + 1] = step (rhs_double_pendule,u[n],dt,m,L) # on remplit notre tableau en utilisant notre fonction step définit précédemment\n",
    "    \n"
   ]
  },
  {
   "cell_type": "code",
   "execution_count": 8,
   "metadata": {},
   "outputs": [
    {
     "name": "stdout",
     "output_type": "stream",
     "text": [
      "la position du bout du pendule1 à 2O secondes est donnée par \n",
      "x1=-0.609\n",
      "y1 = -0.793\n",
      "la position du bout du pendule2 à 2O secondes est donnée par \n",
      "x2=0.391\n",
      "y2 = -0.765\n"
     ]
    }
   ],
   "source": [
    "x1_values = numpy.empty(N) #on crée 4 tableaux vides\n",
    "x2_values = numpy.empty(N)\n",
    "y1_values = numpy.empty(N)\n",
    "y2_values = numpy.empty(N)\n",
    "for n in range (N) :  #on remplit les 4 tableaux avec les positions du bout du pendule1 (x1,y1) et du pendule2 (x2,y2) à chaque instant\n",
    "    x1_values[n] = L * math.sin(u[n,0])\n",
    "    x2_values[n] = x1_values[n] + L * math.sin(u[n,1])\n",
    "    y1_values[n] = -L * math.cos(u[n,0])\n",
    "    y2_values[n] = y1_values[n] - L * math.cos(u[n,1])\n",
    "    \n",
    "x1 = x1_values[N-1]\n",
    "y1 = y1_values[N-1]\n",
    "x2 = x2_values[N-1]\n",
    "y2 = y2_values[N-1]\n",
    "print ('la position du bout du pendule1 à 2O secondes est donnée par ')\n",
    "print ('x1={:.3f}' .format(x1)) \n",
    "print ('y1 = {:.3f}'.format(y1))\n",
    "print ('la position du bout du pendule2 à 2O secondes est donnée par ')\n",
    "print ('x2={:.3f}' .format(x2)) \n",
    "print ('y2 = {:.3f}'.format(y2))"
   ]
  },
  {
   "cell_type": "markdown",
   "metadata": {},
   "source": [
    "Nous avons maintenant les positions du bout des pendules à chaque instant nous allons par la suit créer un graphique qui relira le bout du premier pendule à l'origine et le bout du deuxième pendule à l'extrémité du premier. Nous créons ici 4 tableaux qui contiennent les coordonnées des extrémités des pendules ainsi qua les coordonnées du point auxquel il sont attachés."
   ]
  },
  {
   "cell_type": "code",
   "execution_count": 9,
   "metadata": {},
   "outputs": [],
   "source": [
    "px1 = numpy.empty((N,2))# nous retrouvons donc ici toute les valeurs de x1 au court du temps avec les coordonnées de l'origine\n",
    "py1 = numpy.empty([N,2])# nous retrouvons donc ici toute les valeurs de y1 au court du temps avec les coordonnées de l'origine\n",
    "px2= numpy.empty((N,2))# nous retrouvons donc ici toute les valeurs de x2 au court du temps avec les coordonnées de x1\n",
    "py2 = numpy.empty([N,2])# nous retrouvons donc ici toute les valeurs de y2 au court du temps avec les coordonnées de y1\n",
    "for n in range (N):\n",
    "    px1[n,0] = 0.0\n",
    "    px1[n,1] = x1_values[n]\n",
    "    py1[n,0] = 0.0\n",
    "    py1[n,1] = y1_values[n]\n",
    "    px2[n,1] = x2_values[n]\n",
    "    px2[n,0] = x1_values[n]\n",
    "    py2[n,1] = y2_values[n]\n",
    "    py2[n,0] = y1_values[n]\n"
   ]
  },
  {
   "cell_type": "markdown",
   "metadata": {},
   "source": [
    "Nous allons maintenant construire notre animation pour se faire nous alllons construire un graphique et le mettre \"à jour\" à chaque instant et en faire une animation."
   ]
  },
  {
   "cell_type": "code",
   "execution_count": 10,
   "metadata": {},
   "outputs": [
    {
     "data": {
      "image/png": "[encoded data removed]",
      "text/plain": [
       "<Figure size 432x432 with 1 Axes>"
      ]
     },
     "metadata": {
      "needs_background": "light"
     },
     "output_type": "display_data"
    }
   ],
   "source": [
    "# nous allons ici donner les bases de notre animation\n",
    "fig = plt.figure(figsize = (6.0,6.0))\n",
    "\n",
    "ax = plt.axes(xlim=(-2, 2), ylim=(-2, 2))\n",
    "ax.grid()\n",
    "line1, = ax.plot([], [])\n",
    "line2, = ax.plot([], [])"
   ]
  },
  {
   "cell_type": "markdown",
   "metadata": {},
   "source": [
    "Nous allons maintenant créer des fonctions qui vont remettre le graphique \"à jour\" à chaque instant. "
   ]
  },
  {
   "cell_type": "code",
   "execution_count": 11,
   "metadata": {},
   "outputs": [],
   "source": [
    "\n",
    "def init():\n",
    "    line1.set_data([], [])\n",
    "    line2.set_data([],[])\n",
    "    return line1,line2\n",
    "\n",
    "# cette fonction est appellée à chaques instants pour créer le graphique\n",
    "def animate(i):\n",
    "  \n",
    "    line1.set_data(px1[i], py1[i])\n",
    "    line2.set_data(px2[i],py2[i])\n",
    "    return line1,line2\n"
   ]
  },
  {
   "cell_type": "code",
   "execution_count": 12,
   "metadata": {},
   "outputs": [],
   "source": [
    "# on appelle la fonction qui va mettre tout ça en mouvement la partie blit = True signifi qu'ill ne faut redessiner que les points qui ont changés\n",
    "anim = animation.FuncAnimation(fig, animate, init_func=init,\n",
    "                               frames=N, interval=1, blit=True)\n",
    "\n",
    "\n",
    "\n",
    "plt.show()"
   ]
  },
  {
   "cell_type": "code",
   "execution_count": 13,
   "metadata": {},
   "outputs": [
    {
     "data": {
      "text/html": [
       "<video width=\"432\" height=\"432\" controls autoplay loop>\n",
       "  <source type=\"video/mp4\" src=\"data:video/mp4;base64,AAAAHGZ0eXBNNFYgAAACAGlzb21pc28yYXZjMQAAAAhmcmVlAAAetG1kYXQAAAKvBgX//6vcRem9\n",
       "5tlIt5Ys2CDZI+7veDI2NCAtIGNvcmUgMTU3IHIyOTM1IDU0NWRlMmYgLSBILjI2NC9NUEVHLTQg\n",
       "QVZDIGNvZGVjIC0gQ29weWxlZnQgMjAwMy0yMDE4IC0gaHR0cDovL3d3dy52aWRlb2xhbi5vcmcv\n",
       "eDI2NC5odG1sIC0gb3B0aW9uczogY2FiYWM9MSByZWY9MyBkZWJsb2NrPTE6MDowIGFuYWx5c2U9\n",
       "MHgzOjB4MTEzIG1lPWhleCBzdWJtZT03IHBzeT0xIHBzeV9yZD0xLjAwOjAuMDAgbWl4ZWRfcmVm\n",
       "PTEgbWVfcmFuZ2U9MTYgY2hyb21hX21lPTEgdHJlbGxpcz0xIDh4OGRjdD0xIGNxbT0wIGRlYWR6\n",
       "b25lPTIxLDExIGZhc3RfcHNraXA9MSBjaHJvbWFfcXBfb2Zmc2V0PS0yIHRocmVhZHM9MTIgbG9v\n",
       "a2FoZWFkX3RocmVhZHM9MiBzbGljZWRfdGhyZWFkcz0wIG5yPTAgZGVjaW1hdGU9MSBpbnRlcmxh\n",
       "Y2VkPTAgYmx1cmF5X2NvbXBhdD0wIGNvbnN0cmFpbmVkX2ludHJhPTAgYmZyYW1lcz0zIGJfcHly\n",
       "YW1pZD0yIGJfYWRhcHQ9MSBiX2JpYXM9MCBkaXJlY3Q9MSB3ZWlnaHRiPTEgb3Blbl9nb3A9MCB3\n",
       "ZWlnaHRwPTIga2V5aW50PTI1MCBrZXlpbnRfbWluPTI1IHNjZW5lY3V0PTQwIGludHJhX3JlZnJl\n",
       "c2g9MCByY19sb29rYWhlYWQ9NDAgcmM9Y3JmIG1idHJlZT0xIGNyZj0yMy4wIHFjb21wPTAuNjAg\n",
       "cXBtaW49MCBxcG1heD02OSBxcHN0ZXA9NCBpcF9yYXRpbz0xLjQwIGFxPTE6MS4wMACAAAANhGWI\n",
       "hAAn//71sXwKasnzigzoMi7hlyTJrrYi4m0AwAAAAwAFUEq0Xzg3/fjOAADqgARYNqK/8ACIuFBZ\n",
       "W0pnC0nWif/dEngCEuxYNQxXMIViCkka/QYj626WO48uIZk53VvKJtyeSSW2W2+3VTW8MTA0tqNg\n",
       "ljFGJ58L2YaRll5fZkMgodlFCsA4dQiDUx26EOfcVTRjgjR7oPk4uLtu0QIls64oDe7eMOT97DPX\n",
       "ojcedcKhfEefPQ4ommCy9Q0aNHny6sdFIUz/3R0kCG2XIuzfefVYWVHKaeOWdNwF+eNzGYizc5sS\n",
       "95XOwADoW2dYmfq/d7h1t00BouG46aE0DdMxy/Kl0omLGUI59AORdHezCjtbwZLF3PRVLJslwcYh\n",
       "5CYDHDGkUyUfhp1q4i31uRoeS6RSwWLUmZ4y4cjBcNSyCmyZyahUwriRVjHQmvsIrkX0oha8NOT+\n",
       "ujoWM1kHMTdCUISrqDcuC4g2/pUZIllckctIbLlS38K+yYtcDqFugcu7YB2KqqkM/oeV+xtB2t+l\n",
       "FaJrLfqOEeiz4QQZxDJ/1ucNxmCnoGQwsxRLmZbqN9ihJCfnR0kTJqE2aVc7OuEi4GiJdPzuNZmX\n",
       "Gn87uhHqKTcPPtpjwhOScZTk1k5ea5IElkeqqtC4hectzwklRsX+AjWUYk0lzjrTkGbJ43eEm4Dv\n",
       "KiEa+b1vYtrWKxUaLmiOKJ1Vvvi90uuBwr98UimYFFSAED6WtKrSRuM13sMT3FRdo90XYKgB8mFL\n",
       "2CXSdYyPFWTCtppOGz/WEqS+CLBtN2+xxI8xDYw5QFpA0o3T1HKLaEeqp5kxzxi95nlA03NZiYW3\n",
       "TSiMw3Wbt90UgSpFVnLrioTdHmf2QnVpyZW1rB4v+KVzIxpxOWuFPuvnvuzIRb2lyU9mJYP3qyFs\n",
       "NnETKTRApQhFy16DzFLFJ4dH/D5z0rEiOHKHAXFV6H5Vm/Re2sHNVJp08N0dX5ib5wC90yULEYje\n",
       "aNCqO9xd3jT5HlEDUSph/C2d/jvupq5592gtYOnnhWs5y5hHJiuhCERe+7cOviZiaj4Aso/v1GhJ\n",
       "g8yn0JqhrLoXv4QckJ6F4a3e0wnsmctrDVhZ+ZmaAqiyN0qg0cM2lrKTN9WoQHczWd/WiFmwdrdA\n",
       "cI5Cgv/iQ1fDNUfczd9+uOwbA93xXQNbhWHRnUuG2Bsb6JbxF0QOEuGMX5EZF3fxsVx7/YfCiBhx\n",
       "wyqHbP0M1PHj24DLKseY8wogI/bvGHASACv3ze/aHDjft0FivFYl2NAf2W8mXCMSLgTvtmUKmeL1\n",
       "KDaFUrkfM21qfrUy+jFm/4S/3apNbcyz+6jhX/5KUf0QH6tX9pg6831KOOQ3TrowMoJV+fsjVYRa\n",
       "829reG8+yA62Q2gjttYQvGMqo1UB4SZMDL4aRpn/sRbwXyuyvhj06Xb3fGpcvrrHUGErctx9aPDN\n",
       "+fPEmeR1dnflxDsEM3pCrYIF0teD/GvUU8J7xRJ71I5ADbq9+8xC2XqNk1GsUN79caQFvm0maRFS\n",
       "k7YeV+SonADqMlOQ+nP5nMBRavl+E0ecz1pzTtQ5j8t3Wl7fKJNMQBtTyEO+XOEBVhkEMbL2uLIF\n",
       "evNITi1VNwJVGx7ulLKRgxNbxa/IuWZqkTxW+nPLm0ST6MdCJWtI3plIKv+HsMAcEWqrLNBfpPfL\n",
       "EAJqrXYDIM0FParsfTYqOw9rGxrlT6+9VpK+9JOrp753K/f8L8xGeMHm+L02OnR62+WR/t1Q3TwF\n",
       "qvGSSsn/UDxEt7OQ1QaZ+F4+4ULKMgoHn2I37eZzFLBH9O8/1GwpKsfvpza+qs2Fdjl7Njc4wrht\n",
       "3VP1xwhLRfRCD290ftW09hrCUtIacyaNwInoa1wPXXfANQ26yFbb9hvYcwbkAAKRAw6aI/VPJPWS\n",
       "uVgeBsLwCxwNUFV7wf0SPIgfKqdvnWWFCI8x+JAx2X5sH5+U64SVv1RbvhQPE7Gk1+13+gCJj4cv\n",
       "GjOJ5PhQ+AH8tsDGwSLaOEWPADmWiFFRo/WquHOIXPtqzyKxB8LCC4rTCEd8qdDtwEYZ4u/5UsCM\n",
       "Ran7ugU4FAXUofJ/CFJoH0wsGMyfDlieGm/LwT5TS/PPvPRuQ0kH/vMOb/cJJqrHJnkb6+g5hO8q\n",
       "10nu5g30jKpEy3/PpRwBbSE64zL0u5q+aUIyWDpi2eIcsGwtSx3o+B3i4ARky9/kyWx+4CKP8VkV\n",
       "LoQW203zcFRYA/k5d+PRLRvKOc+tmCVyV+9emCxweGb1pEKvBFO6aTH5g10nOkmy+OY9UPsZqVrm\n",
       "RAYjIP8jMKLfmttQmT5Fh0UvZ53jrvT3YSOG1DM7nhP2zHnSBIEPkTN/lPAZqmv1OamrGlrhZfm+\n",
       "5m8UirPAK18/mV3hqin8p6ST1FZYTKhvVe8TUYEz/w8HbCxGaZ8GWJXpUa5fXXJ32eqomw/9EFig\n",
       "OdwosvMHJ3xNZleEuWxtdEPHLj1LtNjaNcQ/6pVoUWINGVhCD35YyqtLCOYFRD4Jc/G5/B0dk0KV\n",
       "c3m3yqII5ATmiKWPdydiVOvqaEsqqyOdvwOVenNd9ZguDOrThswYcooj+ijUkUaFqaUup8ELQ3OA\n",
       "AGEHFEn2X9UBRwR5YeAFaKkDhW1vJtG/aZKHGTOuB/KgSb7H3RYyTrjviws3tXyUFgqxaV8zYOrU\n",
       "XaTbZmMC60noZ+2kWjqwdyVx5g79DGLGBSQR6/wKtGrY6I4AkVddCkW6t3bB5x9cMX3ziFcf8NJe\n",
       "/iEvJBufPaDZd7F9i28nbmF9JoXo7SCkHoexjbnS1RkIhPcRucgwSGiXj4HMBrG1+aFH2T8l982G\n",
       "9O5/Y3n/+mC6Qzx4GqfGrMuSU5dOO1xyGSfhq1sA+t/mjEKgGXZaeawK35IdDo0D3R/lXjj9hvYT\n",
       "gAAAAwBrSfvWtm2qCLprlSoZ7xwT9bPHMs3iCc1qiMuir0MfzOLy1yA+ncf+8z7cC5/1FF4RKp7D\n",
       "ITW8G+Bkb16lVBTfx/4Ix+n994TEhy+Ao9zm4HnFYa5vovnge74EXWwhuVf0G7FMl6imqHx8K9cQ\n",
       "EeUUpunFd+PV7xxouIIwoPIrzUtocOf0fnXNgM1tghOqpIlF1jOWOVf0vztgCFlle9OWEMtbOIky\n",
       "o4oHwNCkluEddi8pq7EeJRgQsPBprjnrYpCxKOXwzZSzq59C2UJTLPVyxHXlqj2rfBEd4i3nB3QT\n",
       "NFbSv2jsvu4vELo87mPtfrPvl08oEZlHqlrpvfGmsXDyYu2gkm0Sb/hTv9SVtkWJLw3fy0AhBtgk\n",
       "pbHlZBq4eoAAgMD5uJIR+T2qWH6PuuLwFC3zT13N2S5R0n19ai/y5TQv7Sof/OEgDY7iev8FkYKW\n",
       "feWPFDe/r+YaXPJs62qEapf7iBG43CUZuVY/itKN1Kab+T0z6mYT7NLcgkDpTIBoKzzKJxXYjAXp\n",
       "FD/NBU1QNqZB403bWEjBj9lkBchpqCvJqpxXUWFH64KbqtLfXk2x8OWBVw2BvnaQgdwl1vsd00B8\n",
       "07Itq6YPRCoTicAMRCQnAEbVQvN2hLylMCC+8esbcThhiS0j/wA+TCPVmS5UAEiMQvLBgErpKCEh\n",
       "vNFAfzF9ALDiikkXZ7rcfLa6uH5+j9IJkiAVv3/TgA+r+EV7rUZHCglDNg9W8T46rV78uGjIHbVn\n",
       "tLnHktTDXaBL99dU+DK65JAmIBAyhSTMPlGk7knIVGk7dKngQNImMqal4Y8a+79HYW1yLcKQWkL9\n",
       "7YpKM+CBnFyTdvaRqj/ki4AZWtt4H50wST0d8S2T7AJBV39XMHEXlgK+lVvxKMvP72vRxBBF0OX+\n",
       "xS6UB/AA5XRDUFfZ1amlfsppEOJkeOQmUnAxSJRlzbttmJ/wIxcaf/9PnDM+yib6DjDPJ4jKS8P0\n",
       "UWtvbAEUVjgf8X36c2+GCEkj7NJRhukwcdmXODQuqjrgprT10wALXnLMM5MQxke0wAKH7ZqUwSd0\n",
       "447Nf2r4TYRtXjNQnxpF+vUZDVfehDgwD4qHeux0gpuXm1wc6gcbMXZmEejc4M16sTNrX1y6cU5H\n",
       "61tnTZIsMueLkW+S+G9rTTCM17JRCT+6RYFP4Dcrcd9O7vEOSUau23ySxnhadEhmu3vE1aUzzvet\n",
       "46y/MQurbPY8r0s1iYN0c2PtPJgtpdluN+wby53TMWqRbEUFdzsUXOjTDFKcTgqp6qcvYopVdbHO\n",
       "NJt3X7je4FjkG80fqQBtFW+6uNAR0x+0kR8hSCQAQn9eAvrU26P7ejuu+STkEFt4PwMr1zGfVAQ4\n",
       "j0jim/W67HbAeW1N6AlQRZcrBw6zzEGSdOZRrpANzPPFW6nNRc9dIF3y8gbSyzloGQJ9LP/im3+r\n",
       "/X0gV9u4dBcttKlOD6cosQTAHtkdL45KFhxwd3aNb2Xzb0ify/b0C8kustpPM8OTz3l0YI7+SXAY\n",
       "xiACNZcBh4Ns3da8NDGhBg8JpoykGvDBaVgNoXcN3cRC3arPAm+1IpdH4WwiYX43Hbjk8SjJeACI\n",
       "9vlFKcqNjYaNW6Q40um0ZLdpqzSblHrVgwZlHmnQFTpZ/NGd/K8U3avVx3/aKcWcwiVrlS4bh3W6\n",
       "LposJjUoeyvAScGgb6HSE4sD7TkJAABwD2kBhlAioCJYU0AAM+EAAABgQZokbEJ//fEALb7ERvMM\n",
       "1jg1AHSSP+r8KQ32+bYCkzkYGSiDkBiOpI8nd0IZPm+hlkUSzFQKepiWl9WNU+pbgTwOvhaxPEDV\n",
       "VaAyOdxBu4D8Qi+RFKVTboBuNXzWBmFAAAAALUGeQniN/wMHuF6oTJBcRSVkGcAF6z7waDiurzVQ\n",
       "mQFNzCaVpAHofJS2JjonnwAAACABnmF0Rf8Dyk35nmbRCCEyEVF8VxyOvAEiT5qANnjDwAAAABsB\n",
       "nmNqRf8AVBXchNTR+VkW2ZI71LZZxtsAGVEAAAAwQZpoSahBaJlMCE///fEAA+BcBjwDr9AR+ico\n",
       "GIFOxu5am92Sa2vFTfu6kB+YYA7pAAAAIUGehkURLG8AQWh70O5oO8m3DO4bYZTUhziBERRluzs5\n",
       "UQAAABkBnqV0Rf8AVEoKaljPyFh8++cu51l5YAN/AAAAEgGep2pF/wBUFcoHA70TLCA1IAAAABVB\n",
       "mqxJqEFsmUwIT//98QAAAwAAIuAAAAAYQZ7KRRUsbwBBaF2aN+/ey+LnhyA0kRZ9AAAADgGe6XRF\n",
       "/wBUSdowAKCAAAAADgGe62pF/wBUFZkAANuAAAAAFUGa8EmoQWyZTAhP//3xAAADAAAi4QAAABhB\n",
       "nw5FFSxvAEFoXZo3797L4ueHIDSRFn0AAAAOAZ8tdEX/AFRJ2jAAoIEAAAAOAZ8vakX/AFQVmQAA\n",
       "24AAAAAYQZs0SahBbJlMCE///fEAAAVgdY9twBGwAAAAGEGfUkUVLG8AQWhdmjfv3svi54cgNJEW\n",
       "fQAAAA4Bn3F0Rf8AVEnaMACggAAAAA4Bn3NqRf8AVBWZAADbgAAAABtBm3hJqEFsmUwIT//98QAA\n",
       "BbEbhu3dgZniQQMAAAAYQZ+WRRUsbwBBaF2aN+/ey+LnhyA0kRZ8AAAAEgGftXRF/wBUSdpJtFLv\n",
       "z7YUMQAAAA4Bn7dqRf8AVBWZAADbgQAAACpBm7xJqEFsmUwIT//98QAABdUd3ugBfOmA5vlF8187\n",
       "iYJnBkqZ2IgwFtAAAAAaQZ/aRRUsbwBBaF2aN+/e1sJYjPhXzBhj/lUAAAASAZ/5dEX/AFRJ2kpV\n",
       "W1FOrQtoAAAADwGf+2pF/wBUFZkhLFvCLwAAAFZBm+BJqEFsmUwIT//98QAFR3VywqrgBhxjkdF3\n",
       "HgjJxERuOUZou9mNTPzg9fCO1Hnn8rIw5pukmORWocGJhZhVU7sDVkV9Pq51ImdlH8RktxkYKAA9\n",
       "IQAAABpBnh5FFSxvAEFoXZo3797VECod1vdfqTlH6QAAABABnj10Rf8AVEnaRhq28JuAAAAAEAGe\n",
       "P2pF/wBUFZkfx1k2BlUAAAA6QZokSahBbJlMCE///fEAAAXzNZRW4A5JqmjcyM8v8JZp+hMBYRuj\n",
       "3lR/+055LTxrnql5wbDr1+Al4AAAABpBnkJFFSxvAEFoXZo3797ZC5MDr1tG5ZE2fQAAABEBnmF0\n",
       "Rf8AVEnaSbVbX2gKCAAAABIBnmNqRf8AVBWZHpU8AbmrAgcAAABOQZpoSahBbJlMCE///fEAAAX0\n",
       "oA1Fs4s0AF/ashRwCF1CX3F1LhlXqhM1k9HMLfIAYflYT+tAdC46N/7qRR89qoEck5GFhqYpVLKG\n",
       "IKCBAAAAGkGehkUVLG8AQWhdmjfv3tWQ0QXYRYHgjkxtAAAAEwGepXRF/wBUSdpHOo++51LwZkEA\n",
       "AAAQAZ6nakX/AFQVmR4IdvCbgAAAAExBmqxJqEFsmUwIT//98QAABh4yl/s7I/gADbQUjB3wG6J7\n",
       "wigC0bCYLYIIu5Fcal82KlXkAZ7tm6p1kaKt3yt/HBE+na6azQkNwAxYAAAAHUGeykUVLG8AQWhd\n",
       "mjfv3u7a1aJar6egofz83E91AAAAFQGe6XRF/wBUSdpiWMR6ujnFkMBbQAAAABIBnutqRf8AVBWZ\n",
       "RJfBG/7AjYAAAABFQZrwSahBbJlMCE///fEAAAX0oA1FrXVrzkmCfN7m6agBsQ7yaROWWrzsEb+4\n",
       "28/N0lo/nH0vceBT9GTEy/5l82WlsDFhAAAAHkGfDkUVLG8AQWhdmjfv3u7h1QdsS/fuzCviiwa2\n",
       "bwAAABMBny10Rf8AVEnaSvVGSEivIIuBAAAAEAGfL2pF/wBUFZkeCHbwm4AAAABaQZs0SahBbJlM\n",
       "CE///fEAAAYcnNCHn3JAI+jRW35fxuKpNLapd4FUSAYxiFgyHdlL6YTham3YhLGdteAwUQYz53QQ\n",
       "NasVuZPMgPDh5uXIxCye6hqsA97qMiIeAAAAHEGfUkUVLG8AQWhdmjfv3u7CdOO6RINfI+RchXEA\n",
       "AAATAZ9xdEX/AFRJ2mJCwqC3OMDUgAAAAA8Bn3NqRf8AVBWZRFi3gh4AAABPQZt4SahBbJlMCE//\n",
       "/fEAAAX0nm+7JXOk18AmTCUj/zaVOUDc7o2q70K3hHDQLfirJsw/ItW8d35dmla8KSo6c2Xufqix\n",
       "2Qg3LjBRKmEDFwAAABlBn5ZFFSxvAEFoXZo3797WMjbGAHqkie+EAAAAEwGftXRF/wBUSdpHlTBl\n",
       "+b7A6YEAAAAOAZ+3akX/AFQVmQAA24EAAABGQZu8SahBbJlMCE///fEAAAqPsRhVoHsj0lGXiP9w\n",
       "CeXZCt0fHQHhQUNrfjpSTNV71n99zme4tzRdRqCiij2I13xkZHQPGAAAABlBn9pFFSxvAEFoXZo3\n",
       "797aS16zYw2m6e+FAAAAEAGf+XRF/wBUSdpGGrbwm4AAAAAOAZ/7akX/AFQVmQAA24EAAABTQZvg\n",
       "SahBbJlMCE///fEAAAYcixetP350augpAFl4Hlxby2aiVRvsT9bpvtefWrgAEMQ4CNEilXO2/AXF\n",
       "XMW02UKbmwcBurObcDpYf34N7tPwF3EAAAAWQZ4eRRUsbwBBaF2aN+/ewx94WIQb5gAAAA8Bnj10\n",
       "Rf8AVEnaR9Tf4R8AAAAOAZ4/akX/AFQVmQAA24EAAAB+QZokSahBbJlMCE///fEAAAX2MR4egCxp\n",
       "Ne2rjB4d4Fqh/t23TlNI9K7mFkvSTNRErLELaybQWFBhpkqq3mOQ5HUgnsCtSP5rPvJSVWgM0g4m\n",
       "MI8V4c44W2bQOAo3TNceKKsC0q+g96rOPSXq3d3XGNC2dZ+tIJB6potKgFlAAAAAGEGeQkUVLG8A\n",
       "QWhdmjfv3upNn68gNJEWfQAAABEBnmF0Rf8AVEnaSRVGP7wHHAAAABEBnmNqRf8AVBWZIy1s0sAm\n",
       "YQAAAGdBmmhJqEFsmUwIT//98QAABh4s0Lvk0aVoAtIyO74q6E8b15yFcpV5C1uvaGyccl5QQ/lL\n",
       "6f7g/vvxcxFO7qmU8L8lXV40qgLY60mgOexqArsqDcgX33RsqX/F2dgF8zYVu6RHOYW1AAAAGEGe\n",
       "hkUVLG8AQWhdmjfv3upNn68gNJEWfQAAAA4BnqV0Rf8AVEnaMACggQAAAA4BnqdqRf8AVBWZAADb\n",
       "gAAAAE5BmqxJqEFsmUwIT//98QAABiCHF2hWjoNAPHbLILHMdoQAIGHijIgpa3LYIfQlpUyrsV35\n",
       "s7g2WLsTSVFZrGVqiU/B+GEPzFn9lHPaDZgAAAAYQZ7KRRUsbwBBaF2aN+/e6k2fryA0kRZ9AAAA\n",
       "DwGe6XRF/wBUSdpH1N/hHwAAAA4BnutqRf8AVBWZAADbgAAAAF5BmvBJqEFsmUwIT//98QAABh40\n",
       "7KVcyvZEALAaHMZYERg7WXFB9ddYXiH2KbBRy9zmR9gT+7da7+8DHOwh1szZIS7zmTOuhN6cPKFa\n",
       "9q0XN/N+woW7SQCj8X8OkIOBAAAAGEGfDkUVLG8AQWhdmjfv3upNn68gNJEWfQAAAA4Bny10Rf8A\n",
       "VEnaMACggQAAABIBny9qRf8AVBWZJECCuuUpgdMAAABWQZs0SahBbJlMCE///fEAAAYeNe3uPrz0\n",
       "GfkAULzoabPsGBVEIRV+QfLOpr8BK3mLwBLMptHQ2CvOAVGqvytj82bSrYN6++bFjaYMWLCUy6rS\n",
       "t6P8N+AAAAAcQZ9SRRUsbwBBaF2aN+/e1oireBMM6eg7fFvlQQAAAA4Bn3F0Rf8AVEnaMACggAAA\n",
       "AA8Bn3NqRf8AVBWZJSxbwfMAAABeQZt4SahBbJlMCE///fEAAAYfKGMchB20Df0XPEHdqEgBaeQ4\n",
       "+NQ5PF/aXUrBl8DAYlYAZ6kikCUWjsiRYjg/yuGzYpJCAi9bZuLODAN+FeWtHVGPqxd/SC1ucOeD\n",
       "UwAAABhBn5ZFFSxvAEFoXZo3797MeiRApODwBOwAAAAOAZ+1dEX/AFRJ2jAAoIEAAAARAZ+3akX/\n",
       "AFQVmR9WCGkfxQUAAABjQZu8SahBbJlMCEf//eEAAAmm1vTzzImQ7cQBN63NcK5+HB1lcm95MQrs\n",
       "QKNv3rT5dSKEQP9dqNveUD1uiNJ0cxh5DqSB3X57mWfVhYVdyZ66FYCTX5D3BiYkQbuUd26/hwto\n",
       "AAAAG0Gf2kUVLG8AQWhdmjfv3tSE9tvagw7sa4w9MQAAABQBn/l0Rf8AVEnaRzrF9HXMS1AUkAAA\n",
       "ABABn/tqRf8AVBWZERwT7BgRAAAAWEGb4EmoQWyZTAj//IQAACWYBzuNbzzUwAM1sCBTwRlVUhYW\n",
       "cZ1ts4+CPO2RBlwZCoHWaT5LCjItLeYPQczt5YDpmaYMrdViS+qsp2Rq37EgX55mSVdmeIkAAAAi\n",
       "QZ4eRRUsbwBBaF2aN+/e19nZIttoHUnseCieRoIC+CzpgAAAABIBnj10Rf8AVEnaPIZTxQfSo4QA\n",
       "AAATAZ4/akX/AFQVmQCZAMKvSJUYQQAAAD5BmiNJqEFsmUwIv/pYAABH4e6Vud2BC5qpJ5Hjr+EO\n",
       "gARfZiRP9oV209KHn+HOgcHs3h/QEWD5p2slBQL7hAAAACBBnkFFFSxfAFQVsJp0jrykByXvroQU\n",
       "Oy7eN6w/YcAwIQAAABABnmJqRf8AVBWZECAaUPCAAAAH1W1vb3YAAABsbXZoZAAAAAAAAAAAAAAA\n",
       "AAAAA+gAAABkAAEAAAEAAAAAAAAAAAAAAAABAAAAAAAAAAAAAAAAAAAAAQAAAAAAAAAAAAAAAAAA\n",
       "QAAAAAAAAAAAAAAAAAAAAAAAAAAAAAAAAAAAAAAAAAIAAAb/dHJhawAAAFx0a2hkAAAAAwAAAAAA\n",
       "AAAAAAAAAQAAAAAAAABkAAAAAAAAAAAAAAAAAAAAAAABAAAAAAAAAAAAAAAAAAAAAQAAAAAAAAAA\n",
       "AAAAAAAAQAAAAAGwAAABsAAAAAAAJGVkdHMAAAAcZWxzdAAAAAAAAAABAAAAZAAAACAAAQAAAAAG\n",
       "d21kaWEAAAAgbWRoZAAAAAAAAAAAAAAAAAAAPoAAAAZAVcQAAAAAAC1oZGxyAAAAAAAAAAB2aWRl\n",
       "AAAAAAAAAAAAAAAAVmlkZW9IYW5kbGVyAAAABiJtaW5mAAAAFHZtaGQAAAABAAAAAAAAAAAAAAAk\n",
       "ZGluZgAAABxkcmVmAAAAAAAAAAEAAAAMdXJsIAAAAAEAAAXic3RibAAAALJzdHNkAAAAAAAAAAEA\n",
       "AACiYXZjMQAAAAAAAAABAAAAAAAAAAAAAAAAAAAAAAGwAbAASAAAAEgAAAAAAAAAAQAAAAAAAAAA\n",
       "AAAAAAAAAAAAAAAAAAAAAAAAAAAAAAAAABj//wAAADBhdmNDAWQAM//hABdnZAAzrNlBsN6EAAAD\n",
       "AAQAAB9APGDGWAEABmjr48siwAAAABx1dWlka2hA8l8kT8W6OaUbzwMj8wAAAAAAAAAYc3R0cwAA\n",
       "AAAAAAABAAAAZAAAABAAAAAUc3RzcwAAAAAAAAABAAAAAQAAAyhjdHRzAAAAAAAAAGMAAAABAAAA\n",
       "IAAAAAEAAABQAAAAAQAAACAAAAABAAAAAAAAAAEAAAAQAAAAAQAAAFAAAAABAAAAIAAAAAEAAAAA\n",
       "AAAAAQAAABAAAAABAAAAUAAAAAEAAAAgAAAAAQAAAAAAAAABAAAAEAAAAAEAAABQAAAAAQAAACAA\n",
       "AAABAAAAAAAAAAEAAAAQAAAAAQAAAFAAAAABAAAAIAAAAAEAAAAAAAAAAQAAABAAAAABAAAAUAAA\n",
       "AAEAAAAgAAAAAQAAAAAAAAABAAAAEAAAAAEAAABQAAAAAQAAACAAAAABAAAAAAAAAAEAAAAQAAAA\n",
       "AQAAAFAAAAABAAAAIAAAAAEAAAAAAAAAAQAAABAAAAABAAAAUAAAAAEAAAAgAAAAAQAAAAAAAAAB\n",
       "AAAAEAAAAAEAAABQAAAAAQAAACAAAAABAAAAAAAAAAEAAAAQAAAAAQAAAFAAAAABAAAAIAAAAAEA\n",
       "AAAAAAAAAQAAABAAAAABAAAAUAAAAAEAAAAgAAAAAQAAAAAAAAABAAAAEAAAAAEAAABQAAAAAQAA\n",
       "ACAAAAABAAAAAAAAAAEAAAAQAAAAAQAAAFAAAAABAAAAIAAAAAEAAAAAAAAAAQAAABAAAAABAAAA\n",
       "UAAAAAEAAAAgAAAAAQAAAAAAAAABAAAAEAAAAAEAAABQAAAAAQAAACAAAAABAAAAAAAAAAEAAAAQ\n",
       "AAAAAQAAAFAAAAABAAAAIAAAAAEAAAAAAAAAAQAAABAAAAABAAAAUAAAAAEAAAAgAAAAAQAAAAAA\n",
       "AAABAAAAEAAAAAEAAABQAAAAAQAAACAAAAABAAAAAAAAAAEAAAAQAAAAAQAAAFAAAAABAAAAIAAA\n",
       "AAEAAAAAAAAAAQAAABAAAAABAAAAUAAAAAEAAAAgAAAAAQAAAAAAAAABAAAAEAAAAAEAAABQAAAA\n",
       "AQAAACAAAAABAAAAAAAAAAEAAAAQAAAAAQAAAFAAAAABAAAAIAAAAAEAAAAAAAAAAQAAABAAAAAB\n",
       "AAAAUAAAAAEAAAAgAAAAAQAAAAAAAAABAAAAEAAAAAEAAABAAAAAAgAAABAAAAAcc3RzYwAAAAAA\n",
       "AAABAAAAAQAAAGQAAAABAAABpHN0c3oAAAAAAAAAAAAAAGQAABA7AAAAZAAAADEAAAAkAAAAHwAA\n",
       "ADQAAAAlAAAAHQAAABYAAAAZAAAAHAAAABIAAAASAAAAGQAAABwAAAASAAAAEgAAABwAAAAcAAAA\n",
       "EgAAABIAAAAfAAAAHAAAABYAAAASAAAALgAAAB4AAAAWAAAAEwAAAFoAAAAeAAAAFAAAABQAAAA+\n",
       "AAAAHgAAABUAAAAWAAAAUgAAAB4AAAAXAAAAFAAAAFAAAAAhAAAAGQAAABYAAABJAAAAIgAAABcA\n",
       "AAAUAAAAXgAAACAAAAAXAAAAEwAAAFMAAAAdAAAAFwAAABIAAABKAAAAHQAAABQAAAASAAAAVwAA\n",
       "ABoAAAATAAAAEgAAAIIAAAAcAAAAFQAAABUAAABrAAAAHAAAABIAAAASAAAAUgAAABwAAAATAAAA\n",
       "EgAAAGIAAAAcAAAAEgAAABYAAABaAAAAIAAAABIAAAATAAAAYgAAABwAAAASAAAAFQAAAGcAAAAf\n",
       "AAAAGAAAABQAAABcAAAAJgAAABYAAAAXAAAAQgAAACQAAAAUAAAAFHN0Y28AAAAAAAAAAQAAACwA\n",
       "AABidWR0YQAAAFptZXRhAAAAAAAAACFoZGxyAAAAAAAAAABtZGlyYXBwbAAAAAAAAAAAAAAAAC1p\n",
       "bHN0AAAAJal0b28AAAAdZGF0YQAAAAEAAAAATGF2ZjU4LjIyLjEwMA==\n",
       "\">\n",
       "  Your browser does not support the video tag.\n",
       "</video>"
      ],
      "text/plain": [
       "<IPython.core.display.HTML object>"
      ]
     },
     "execution_count": 13,
     "metadata": {},
     "output_type": "execute_result"
    }
   ],
   "source": [
    "\n",
    "\n",
    "# on affiche la vidéo\n",
    "HTML(anim.to_html5_video())\n",
    "\n"
   ]
  },
  {
   "cell_type": "markdown",
   "metadata": {},
   "source": [
    "Nous allons maintenant nous intéresser à l'ordre de convergence.  Pour cela il nous faut d'abbord reprocéder à la méthode RK4 pour differents pas tel que $(dt)_k = (dt)_n r$ \n",
    "où $k = n+1$\n",
    "\n",
    "Nous allons donc ici créer un tableau qui contiendra nos solutions pour chaque pas différents."
   ]
  },
  {
   "cell_type": "code",
   "execution_count": 14,
   "metadata": {},
   "outputs": [],
   "source": [
    "\n",
    "dt_values = [0.004, 0.002, 0.001, 0.0005, .00025]# on pose les différents pas\n",
    "\n",
    "\n",
    "u_values = []# on crée un tableau vide qui contiendra les solutions pour chaque pas\n",
    "\n",
    "for dt in dt_values:# nous allons réutilisé la fonction step pour chaque valeurs de dt_values et les mettres dans un tableau\n",
    "    N = int(T / dt) + 1  # nombre de sauts dans le temps \n",
    "  \n",
    "    u = numpy.empty((N, 4))\n",
    "    \n",
    "    u[0] = numpy.array([theta1_0, theta2_0, p1_0, p2_0])# on pose les conditions initiales\n",
    "   \n",
    "    for n in range(N - 1):     # nous allons réutilisé la fonction step pour chaque valeurs de dt_values et les mettres dans un tableau\n",
    "        u[n + 1] = step (rhs_double_pendule,u[n],dt,m,L)\n",
    "    \n",
    "    u_values.append(u)\n",
    "    "
   ]
  },
  {
   "cell_type": "markdown",
   "metadata": {},
   "source": [
    "Nous allons maintenant définir une fonction qui aura pour rôle de représenter la différence entre deux résultats obtenus pour le même système avec la même méthode (RK4) mais avec des pas différents. Pour se faire il faut prendre en compte que plus la précision est grande plus le nombre de points l'est aussi. Nous tiendrons donc compte du ratio entre les différentes dt_values."
   ]
  },
  {
   "cell_type": "code",
   "execution_count": 15,
   "metadata": {},
   "outputs": [],
   "source": [
    "def l1_diff(u_coarse, u_fine, dt):\n",
    "\n",
    "    N_coarse = len(u_coarse)#nombre d'éléments de u_coarse\n",
    "    N_fine = len(u_fine)#nombre d'élément de u_fine\n",
    "    ratio = math.ceil(N_fine / N_coarse)#nous dnne le ratio entre N_coarse et N_fine\n",
    "    diff = dt * numpy.sum(numpy.abs(u_coarse - u_fine[::ratio]))# c'est lors de cette somme qu'il est important de faire attention au ratio\n",
    "    return diff"
   ]
  },
  {
   "cell_type": "code",
   "execution_count": 16,
   "metadata": {},
   "outputs": [],
   "source": [
    "\n",
    "\n",
    "# nous créons maintenant un tableau vide que l'on va remplir avec les différences calculées précédement\n",
    "diff_values = []\n",
    "\n",
    "for i, dt in enumerate(dt_values[:-1]):# on remplis le tableau\n",
    "    diff = l1_diff(u_values[i][:, 2], u_values[-1][:, 2], dt)\n",
    "    diff_values.append(diff)"
   ]
  },
  {
   "cell_type": "markdown",
   "metadata": {},
   "source": [
    "Afin de pouvoir observer quelque chose nous utiliserons la fonction loglog()"
   ]
  },
  {
   "cell_type": "code",
   "execution_count": 17,
   "metadata": {},
   "outputs": [
    {
     "data": {
      "image/png": "[encoded data removed]",
      "text/plain": [
       "<Figure size 432x432 with 1 Axes>"
      ]
     },
     "metadata": {
      "needs_background": "light"
     },
     "output_type": "display_data"
    }
   ],
   "source": [
    "\n",
    "\n",
    "# nous faisons un graphique de la différence en fonction des dt_values\n",
    "pyplot.figure(figsize=(6.0, 6.0))\n",
    "pyplot.title('L1-norm difference en fonction du pas') # on pose le titre\n",
    "pyplot.xlabel('$\\Delta t$')  # on pose le nom des abscisses\n",
    "pyplot.ylabel('Difference')  # on pose le nom des ordonnées\n",
    "\n",
    "pyplot.loglog(dt_values[:-1], diff_values,\n",
    "              color='C0', linestyle='--', marker='o')  \n",
    "pyplot.axis('equal');  # on met les axes à la même échelle\n",
    "\n"
   ]
  },
  {
   "cell_type": "markdown",
   "metadata": {},
   "source": [
    "Nous allons maintenant calculer l'ordre de convergence. "
   ]
  },
  {
   "cell_type": "markdown",
   "metadata": {},
   "source": [
    "l'odre de convergence est donné par $p = \\frac{log(\\frac{f_3 - f_2}{f_2-f_1})}{log (r)} $."
   ]
  },
  {
   "cell_type": "code",
   "execution_count": 18,
   "metadata": {},
   "outputs": [
    {
     "name": "stdout",
     "output_type": "stream",
     "text": [
      "ordre de convergence observé: p = 0.717\n"
     ]
    }
   ],
   "source": [
    "\n",
    "\n",
    "r = 2  # ratio de raffinement des intervalles dt\n",
    "h = 0.001  # dt le plus précis\n",
    "\n",
    "dt_values2 = [h, r * h, r**2 * h]#on crée un tableau avec nos valeurs de dt\n",
    "u_values2 = []# on crée un tableau vide que l'on remplira \n",
    "\n",
    "for dt in dt_values2:#cette boucle va remplir u_values avec des tableaux u que nous allons créer\n",
    "    N = int(T / dt) + 1  # nombre de sauts dans le temps\n",
    "   \n",
    "    u = numpy.empty((N, 4))#on crée un tableau vide qui reprendra les soltuions à chaque dt\n",
    "    \n",
    "    u[0] = numpy.array([theta1_0, theta2_0, p1_0, p2_0])# on pose les conditions initiales\n",
    "  \n",
    "    for n in range(N - 1):#on rempli les tableaux u pour chaque dt\n",
    "        u[n + 1] = step (rhs_double_pendule,u[n],dt,m,L)\n",
    "  \n",
    "    u_values2.append(u)#on rajoute chaque tableau u l'un après l'autre\n",
    "\n",
    "# on calcule f1-f2\n",
    "f2_f1 = l1_diff(u_values2[1][:, 2], u_values2[0][:, 2], dt_values2[1])\n",
    "# on calcul f3 - f2.\n",
    "f3_f2 = l1_diff(u_values2[2][:, 2], u_values2[1][:, 2], dt_values2[2])\n",
    "# on calcul l'ordre de convergence.\n",
    "p = math.log(f3_f2 / f2_f1) / math.log(r)\n",
    "print('ordre de convergence observé: p = {:.3f}'.format(p))\n",
    "\n"
   ]
  },
  {
   "cell_type": "markdown",
   "metadata": {},
   "source": [
    "\n",
    "\n",
    "\n",
    "Nous avons vu dans le cours que pour la méthode d'Euler, on obtient un résultat proche de 1.  Ici, on obtient un résultat de $p\\simeq 0,7$.\n",
    "On peut interpreter cela comme le fait que le taux de diminution des différences entre les résultats définis plus haut (en fonction du dt utilisé) est plus faible que r c'est à dire le taux de raffinement du maillage.\n",
    "On conclu que la fiabilité de la méthode RK4 est donc meilleure que celle de la méthode d'Euler pour un même pas dt donné. \n"
   ]
  }
 ],
 "metadata": {
  "kernelspec": {
   "display_name": "Python 3",
   "language": "python",
   "name": "python3"
  },
  "language_info": {
   "codemirror_mode": {
    "name": "ipython",
    "version": 3
   },
   "file_extension": ".py",
   "mimetype": "text/x-python",
   "name": "python",
   "nbconvert_exporter": "python",
   "pygments_lexer": "ipython3",
   "version": "3.7.0"
  }
 },
 "nbformat": 4,
 "nbformat_minor": 2
}
