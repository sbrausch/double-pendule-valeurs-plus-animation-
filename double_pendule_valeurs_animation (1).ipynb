{
 "cells": [
  {
   "cell_type": "markdown",
   "metadata": {},
   "source": [
    "\n",
    "Ce notebook a pour but de réaliser une analyse numérique des équations du mouvement d'un pendule double.  En effet, ces équations ne sont pas résolubles de manières analytiques, c'est donc le seul moyen de pouvoir connaître la position de notre système en fonction du temps.  \n",
    "Pour cela nous devrons faire appel à une amélioration de la méthode d'Euler, appelée Runge-Kutta d'ordre 4 (RK4) car le pendule double a un régime chaotique, c'est à dire que son état à un moment donné dépend très fortement de son état initial et que donc chaque erreur dans la donnée de l'état du pendule dans l'espace des phases à un instant donné aura de grosses répercussions dans les valeurs suivantes.  La RK-4 permet d'améliorer la précisions de la méthode numérique et donc augmente la fiabilité des valeurs obtenues. \n",
    "\n",
    "Les coordonnées des centres de masses des deux barreaux peuvent s'écrire en fonction de l, $\\theta_1$ et $\\theta_2$ : \n",
    "\n",
    "$X_1= \\frac{l}{2}  sin (\\theta_1)$ \n",
    "\n",
    "$Y_1=\\frac{-l}{2}  cos (\\theta_1)$   \n",
    "\n",
    "$X_2= l (sin(\\theta_1) + \\frac{l}{2} sin (\\theta_2)) $ \n",
    "\n",
    "$Y_2=-l (cos(\\theta_1) + \\frac{l}{2}cos (\\theta_2))$\n",
    "\n",
    "\n",
    "On peut alors écrire le lagrangien $L=T-V$ en fonction des des nos coordonnées généralisées, il s'en suit que :\n",
    "Comme \n",
    "$L=\\frac{1}{6}ml^2 ((\\dot \\theta_2)^2 +4(\\dot\\theta_1)^2+3\\dot \\theta_1 \\dot \\theta_2 cos (\\theta_1 -\\theta_2)) + \\frac{1}{2}mgl(3cos(\\theta_1)+cos\\theta_2)$\n",
    "\n",
    "\n",
    "\n",
    "\n",
    "Par définition des impulsions $p_1$ et$p_2$ comme étant les dérivées du lagrangien par rapport à $\\dot\\theta_1$ et $\\dot\\theta_2$ respectivement, on a \n",
    "\n",
    "\n",
    "\n",
    "\n",
    "$\\dot \\theta_1 =\\frac{6}{ml^2} \\frac{2p_1  - 3cos(\\theta_1-\\theta_2)p_2}{16-9cos^2(\\theta_1 - \\theta_2)}$ \n",
    "\n",
    "$\\dot \\theta_2 =\\frac{6}{ml^2} \\frac{8p_2  - 3cos(\\theta_1-\\theta_2)p_1}{16-9cos^2(\\theta_1 - \\theta_2)}$\n",
    "\n",
    " Ensuite par les équations de Lagrange, on a également  \n",
    "\n",
    "$\\dot p_1 = - \\frac{1}{2}ml^2 (\\dot\\theta_1 \\dot\\theta_2 sin (\\theta1-\\theta2)+3\\frac{g}{l}sin\\theta_1$\n",
    "\n",
    "$\\dot p_2 = - \\frac{1}{2}ml^2 (-\\dot\\theta_1 \\dot\\theta_2 sin (\\theta1-\\theta2)+\\frac{g}{l}sin\\theta_2$\n",
    "\n",
    "Avec ces 4 équations et ainsi que nos conditions initiales sur $\\theta_1$,$\\theta_2$,$p_1$ et $p_2$, nous allons pouvoir appliquer la méthode RK4.\n",
    "\n",
    "\n",
    "\n",
    "\n",
    "\n",
    "\n",
    "\n",
    "\n",
    "\n",
    "\n"
   ]
  },
  {
   "cell_type": "code",
   "execution_count": 1,
   "metadata": {},
   "outputs": [],
   "source": [
    "\n",
    "import numpy\n",
    "from matplotlib import pyplot\n",
    "%matplotlib inline\n",
    "\n"
   ]
  },
  {
   "cell_type": "code",
   "execution_count": 2,
   "metadata": {},
   "outputs": [],
   "source": [
    "\n",
    "\n",
    "from matplotlib import animation\n",
    "from IPython.display import HTML\n",
    "from numpy import sin, cos\n",
    "import numpy as np\n",
    "import matplotlib.pyplot as plt\n",
    "import scipy.integrate as integrate\n",
    "import matplotlib.animation as animation"
   ]
  },
  {
   "cell_type": "code",
   "execution_count": 3,
   "metadata": {},
   "outputs": [],
   "source": [
    "import math\n",
    "import numpy \n",
    "from matplotlib import pyplot\n",
    "%matplotlib inline\n"
   ]
  },
  {
   "cell_type": "markdown",
   "metadata": {},
   "source": [
    "Ici on définit les paramètres ainsi que les valeurs initiales de notre pendule double."
   ]
  },
  {
   "cell_type": "code",
   "execution_count": 4,
   "metadata": {},
   "outputs": [],
   "source": [
    "m = 1.0\n",
    "g = 9.81\n",
    "L = 1.0 # attention ceci correspond au petit l dans l'introduction\n",
    "\n",
    "\n",
    "theta1_0 = numpy.pi/2\n",
    "theta2_0 = numpy.pi/2\n",
    "p1_0 = 0.0\n",
    "p2_0 = 0.0"
   ]
  },
  {
   "cell_type": "markdown",
   "metadata": {},
   "source": [
    "La méthode RK4 classique est décrite est décrite sur Wikipédia (voir dans les sources) \n",
    "\n",
    "Ici, nous avons du un peu modifier cette méthode.  En effet, ce qui nous intéresse c'est de pouvoir connaître les coordonnées \n",
    "$(\\theta_1,\\theta_2)$ pour chaque instant dans le temps séparé de dt = 0,001 s et d'arriver ainsi par étape jusqu'à t=20s. \n",
    "Le problème c'est qu'ici dans les expressions de $\\dot\\theta1$ et $\\dot\\theta_2$, il apparaît les variables $\\theta_1$,$\\theta_2$, $p_1$ et $p_2$.\n",
    "Il faudra donc également à chaque étape après avoir déterminé les valeurs de $(\\theta_1,\\theta_2)$ pour le temps t+dt également déterminer celle de $p_1$ et $p_2$ au même instant t+dt."
   ]
  },
  {
   "cell_type": "markdown",
   "metadata": {},
   "source": [
    "Ici on définit une fonction rhs_double_pendule qui assigne les différentes valeurs des k1,k2,k3,k4 pour chacunes de nos variables $\\theta_1, \\theta_2, p_1, p_2$"
   ]
  },
  {
   "cell_type": "code",
   "execution_count": 5,
   "metadata": {},
   "outputs": [],
   "source": [
    "def rhs_double_pendule (u, m, L, dt):\n",
    "    \n",
    "    theta1, theta2, p1, p2 = u\n",
    "    \n",
    "    k1th1 = (6/(m*(L**2))) * ((2 * p1 - 3 * math.cos(theta1 - theta2) * p2)/(16.0 - 9 * (math.cos(theta1 - theta2))**2))\n",
    "    k1th2 = (6/(m*(L**2))) * ((8 * p2 - 3 * math.cos(theta1 - theta2) * p1)/(16.0 - 9 * (math.cos(theta1 - theta2))**2))\n",
    "    k1p1 = -(1/2) * m*(L**2)*(k1th1 * k1th2 * math.sin(theta1 - theta2) + 3 * (g/L) * math.sin(theta1))\n",
    "    k1p2 = -(1/2) * m*(L**2)*(-k1th1 * k1th2 * math.sin(theta1 - theta2) +  (g/L) * math.sin(theta2))                       #nous calculons les k1 pour chacunes des variables, nous utiliserons ces derniers pour calculer les différents k2\n",
    "    k2th1 = (6/(m*(L**2))) * ((2 * (p1 + (dt/2)*k1p1) - 3 * math.cos((theta1 + (dt/2)*k1th1) - (theta2 + (dt/2)*k1th2 )) * (p2 + (dt/2)*k1p2))/(16.0 - 9 * (math.cos(theta1 - theta2))**2))\n",
    "    k2th2 = (6/(m*(L**2))) * ((8 * (p2 + (dt/2)*k1p2) - 3 * math.cos((theta1 + (dt/2)*k1th1 ) - (theta2 +(dt/2)*k1th2 )) * (p1 + (dt/2)*k1p1))/(16.0 - 9 * (math.cos(theta1 - theta2))**2))\n",
    "    k2p1 = -(1/2) * m*(L**2)*(k2th1 * k2th2* math.sin((theta1 +(dt/2)*k1th1 ) - (theta2 + (dt/2)*k1th2)) + 3 * (g/L) * math.sin(theta1))\n",
    "    k2p2 = -(1/2) * m*(L**2)*(-k2th1 * k2th2 * math.sin((theta1 +(dt/2)*k1th1 ) - (theta2 + (dt/2)*k1th2)) +  (g/L) * math.sin(theta2))                                                     #nous calculons les k2 pour chacunes des variables,\n",
    "    k3th1 = (6/(m*(L**2))) * ((2 * (p1 + (dt/2)*k2p1) - 3 * math.cos((theta1 + (dt/2)*k2th1 ) - (theta2 + (dt/2)*k2th2)) * (p2 + (dt/2)*k2p2))/(16.0 - 9 * (math.cos(theta1 - theta2))**2))#nous utiliserons ces derniers pour calculer les différents k3\n",
    "    k3th2 = (6/(m*(L**2))) * ((8 * (p2 + (dt/2)*k2p2 ) - 3 * math.cos((theta1 + (dt/2)*k2th1) - (theta2 + (dt/2)*k2th2)) * (p1 + (dt/2)*k2p1))/(16.0 - 9 * (math.cos(theta1 - theta2))**2))\n",
    "    k3p1 =  -(1/2) * m*(L**2)*(k3th1 * k3th2 * math.sin((theta1 + (dt/2)*k2th1) - (theta2 + (dt/2)*k2th2)) + 3 * (g/L) * math.sin(theta1))\n",
    "    k3p2 = -(1/2) * m*(L**2)*(-k3th1 * k3th2 * math.sin((theta1 + (dt/2)*k2th1) - (theta2 + (dt/2)*k2th2)) +  (g/L) * math.sin(theta2))                                         #nous calculons les k3 pour chacunes des variables\n",
    "    k4th1 = (6/(m*(L**2))) * ((2 * (p1 + dt * k3p1) - 3 * math.cos((theta1 + dt*k3th1) - (theta2 + dt * k3th2)) * (p2 + dt * k3p2))/(16.0 - 9 * (math.cos(theta1 - theta2))**2))#nous utiliserons ces derniers pour calculer les différents k4\n",
    "    k4th2 = (6/(m*(L**2))) * ((8 * (p2 + dt * k3p2) - 3 * math.cos((theta1 + dt * k3th1) - (theta2 + dt * k3th2)) * (p1 + dt * k3p1))/(16.0 - 9 * (math.cos(theta1 - theta2))**2))\n",
    "    k4p1 = -(1/2) * m*(L**2)*(k4th1 * k4th2 * math.sin((theta1 + dt * k3th1) - (theta2 + dt * k3th2)) + 3 * (g/L) * math.sin(theta1))\n",
    "    k4p2 = -(1/2) * m*(L**2)*(-k4th1 * k4th2 * math.sin((theta1 + dt * k3th1) - (theta2 + dt * k3th2)) +  (g/L) * math.sin(theta2))                        #nous calculons les k4 pour chacunes des variables\n",
    "    \n",
    "    rhs = numpy.array([ k1th1 + 2 * k2th1 + 2* k3th1 + k4th1  ,k1th2 + 2 * k2th2 + 2* k3th2 + k4th2   ,k1p1 + 2 * k2p1 + 2* k3p1 + k4p1   , k1p2 + 2 * k2p2 + 2* k3p2 + k4p2 ])\n",
    "    return rhs "
   ]
  },
  {
   "cell_type": "markdown",
   "metadata": {},
   "source": [
    "Cette fonction nous donne un tableau que nous utiliserons pour définir une fonction qui nous donnera la postion du pendule double à chaque étape dt."
   ]
  },
  {
   "cell_type": "code",
   "execution_count": 6,
   "metadata": {},
   "outputs": [],
   "source": [
    "def step (f, u,dt, *args):\n",
    "    u_new = u + (dt/6) * f(u,*args,dt)\n",
    "    return u_new"
   ]
  },
  {
   "cell_type": "markdown",
   "metadata": {},
   "source": [
    "Nous avons ici une fonction step qui ,pour chaque position du pendule double à un instant t, nous donnes une nouvelle position à l'instant t+dt."
   ]
  },
  {
   "cell_type": "code",
   "execution_count": 7,
   "metadata": {},
   "outputs": [],
   "source": [
    "T = 20.0 # durée de l'observation\n",
    "dt = 0.001 # le pas\n",
    "N = int(T/dt) + 1 #nombre d'étapes dans le temps\n",
    "u = numpy.empty((N,4)) # on crée un tableau vide que l'on va remplir\n",
    "\n",
    "u[0] = numpy.array([theta1_0, theta2_0, p1_0, p2_0 ]) # on donne notre point de départ c'est-à-dire les positions initiales\n",
    "\n",
    "for n in range (N-1):\n",
    "    u[n + 1] = step (rhs_double_pendule,u[n],dt,m,L) # on remplit notre tableau en utilisant notre fonction step définit précédemment\n",
    "    \n"
   ]
  },
  {
   "cell_type": "code",
   "execution_count": 8,
   "metadata": {},
   "outputs": [
    {
     "name": "stdout",
     "output_type": "stream",
     "text": [
      "la position du bout du pendule1 à 2O secondes est donnée par \n",
      "x1=-0.609\n",
      "y1 = -0.793\n",
      "la position du bout du pendule2 à 2O secondes est donnée par \n",
      "x2=0.391\n",
      "y2 = -0.765\n"
     ]
    }
   ],
   "source": [
    "x1_values = numpy.empty(N) #on crée 4 tableaux vides\n",
    "x2_values = numpy.empty(N)\n",
    "y1_values = numpy.empty(N)\n",
    "y2_values = numpy.empty(N)\n",
    "for n in range (N) :  #on remplit les 4 tableaux avec les positions du bout du pendule1 (x1,y1) et du pendule2 (x2,y2) à chaque instant\n",
    "    x1_values[n] = L * math.sin(u[n,0])\n",
    "    x2_values[n] = x1_values[n] + L * math.sin(u[n,1])\n",
    "    y1_values[n] = -L * math.cos(u[n,0])\n",
    "    y2_values[n] = y1_values[n] - L * math.cos(u[n,1])\n",
    "    \n",
    "x1 = x1_values[N-1]\n",
    "y1 = y1_values[N-1]\n",
    "x2 = x2_values[N-1]\n",
    "y2 = y2_values[N-1]\n",
    "print ('la position du bout du pendule1 à 2O secondes est donnée par ')\n",
    "print ('x1={:.3f}' .format(x1)) \n",
    "print ('y1 = {:.3f}'.format(y1))\n",
    "print ('la position du bout du pendule2 à 2O secondes est donnée par ')\n",
    "print ('x2={:.3f}' .format(x2)) \n",
    "print ('y2 = {:.3f}'.format(y2))"
   ]
  },
  {
   "cell_type": "markdown",
   "metadata": {},
   "source": [
    "Nous avons maintenant les positions du bout des pendules à chaque instant nous allons par la suit créer un graphique qui relira le bout du premier pendule à l'origine et le bout du deuxième pendule à l'extrémité du premier. Nous créons ici 4 tableaux qui contiennent les coordonnées des extrémités des pendules ainsi qua les coordonnées du point auxquel il sont attachés."
   ]
  },
  {
   "cell_type": "code",
   "execution_count": 9,
   "metadata": {},
   "outputs": [],
   "source": [
    "px1 = numpy.empty((N,2))# nous retrouvons donc ici toute les valeurs de x1 au court du temps avec les coordonnées de l'origine\n",
    "py1 = numpy.empty([N,2])# nous retrouvons donc ici toute les valeurs de y1 au court du temps avec les coordonnées de l'origine\n",
    "px2= numpy.empty((N,2))# nous retrouvons donc ici toute les valeurs de x2 au court du temps avec les coordonnées de x1\n",
    "py2 = numpy.empty([N,2])# nous retrouvons donc ici toute les valeurs de y2 au court du temps avec les coordonnées de y1\n",
    "for n in range (N):\n",
    "    px1[n,0] = 0.0\n",
    "    px1[n,1] = x1_values[n]\n",
    "    py1[n,0] = 0.0\n",
    "    py1[n,1] = y1_values[n]\n",
    "    px2[n,1] = x2_values[n]\n",
    "    px2[n,0] = x1_values[n]\n",
    "    py2[n,1] = y2_values[n]\n",
    "    py2[n,0] = y1_values[n]\n"
   ]
  },
  {
   "cell_type": "markdown",
   "metadata": {},
   "source": [
    "Nous allons maintenant construire notre animation pour se faire nous alllons construire un graphique et le mettre \"à jour\" à chaque instant et en faire une animation."
   ]
  },
  {
   "cell_type": "code",
   "execution_count": 10,
   "metadata": {},
   "outputs": [
    {
     "data": {
      "image/png": "[encoded data removed]",
      "text/plain": [
       "<Figure size 432x432 with 1 Axes>"
      ]
     },
     "metadata": {
      "needs_background": "light"
     },
     "output_type": "display_data"
    }
   ],
   "source": [
    "# nous allons ici donner les bases de notre animation\n",
    "fig = plt.figure(figsize = (6.0,6.0))\n",
    "\n",
    "ax = plt.axes(xlim=(-2, 2), ylim=(-2, 2))\n",
    "ax.grid()\n",
    "line1, = ax.plot([], [])\n",
    "line2, = ax.plot([], [])"
   ]
  },
  {
   "cell_type": "markdown",
   "metadata": {},
   "source": [
    "Nous allons maintenant créer des fonctions qui vont remettre le graphique \"à jour\" à chaque instant. "
   ]
  },
  {
   "cell_type": "code",
   "execution_count": 11,
   "metadata": {},
   "outputs": [],
   "source": [
    "\n",
    "def init():\n",
    "    line1.set_data([], [])\n",
    "    line2.set_data([],[])\n",
    "    return line1,line2\n",
    "\n",
    "# cette fonction est appellée à chaques instants pour créer le graphique\n",
    "def animate(i):\n",
    "  \n",
    "    line1.set_data(px1[i], py1[i])\n",
    "    line2.set_data(px2[i],py2[i])\n",
    "    return line1,line2\n"
   ]
  },
  {
   "cell_type": "code",
   "execution_count": 12,
   "metadata": {},
   "outputs": [],
   "source": [
    "# on appelle la fonction qui va mettre tout ça en mouvement la partie blit = True signifi qu'ill ne faut redessiner que les points qui ont changés\n",
    "anim = animation.FuncAnimation(fig, animate, init_func=init,\n",
    "                               frames=N, interval=1, blit=True)\n",
    "\n",
    "\n",
    "\n",
    "plt.show()"
   ]
  },
  {
   "cell_type": "code",
   "execution_count": null,
   "metadata": {},
   "outputs": [],
   "source": [
    "\n",
    "\n",
    "# on affiche la vidéo\n",
    "HTML(anim.to_html5_video())\n",
    "\n"
   ]
  },
  {
   "cell_type": "markdown",
   "metadata": {},
   "source": [
    "Nous allons maintenant nous intéresser à l'ordre de convergence.  Pour cela il nous faut d'abbord reprocéder à la méthode RK4 pour differents pas tel que $(dt)_k = (dt)_n r$ \n",
    "où $k = n+1$\n",
    "\n",
    "Nous allons donc ici créer un tableau qui contiendra nos solutions pour chaque pas différents."
   ]
  },
  {
   "cell_type": "code",
   "execution_count": null,
   "metadata": {},
   "outputs": [],
   "source": [
    "\n",
    "dt_values = [0.004, 0.002, 0.001, 0.0005, .00025]# on pose les différents pas\n",
    "\n",
    "\n",
    "u_values = []# on crée un tableau vide qui contiendra les solutions pour chaque pas\n",
    "\n",
    "for dt in dt_values:# nous allons réutilisé la fonction step pour chaque valeurs de dt_values et les mettres dans un tableau\n",
    "    N = int(T / dt) + 1  # nombre de sauts dans le temps \n",
    "  \n",
    "    u = numpy.empty((N, 4))\n",
    "    \n",
    "    u[0] = numpy.array([theta1_0, theta2_0, p1_0, p2_0])# on pose les conditions initiales\n",
    "   \n",
    "    for n in range(N - 1):     # nous allons réutilisé la fonction step pour chaque valeurs de dt_values et les mettres dans un tableau\n",
    "        u[n + 1] = step (rhs_double_pendule,u[n],dt,m,L)\n",
    "    \n",
    "    u_values.append(u)\n",
    "    "
   ]
  },
  {
   "cell_type": "markdown",
   "metadata": {},
   "source": [
    "Nous allons maintenant définir une fonction qui aura pour rôle de représenter la différence entre deux résultats obtenus pour le même système avec la même méthode (RK4) mais avec des pas différents. Pour se faire il faut prendre en compte que plus la précision est grande plus le nombre de points l'est aussi. Nous tiendrons donc compte du ratio entre les différentes dt_values."
   ]
  },
  {
   "cell_type": "code",
   "execution_count": null,
   "metadata": {},
   "outputs": [],
   "source": [
    "def l1_diff(u_coarse, u_fine, dt):\n",
    "\n",
    "    N_coarse = len(u_coarse)#nombre d'éléments de u_coarse\n",
    "    N_fine = len(u_fine)#nombre d'élément de u_fine\n",
    "    ratio = math.ceil(N_fine / N_coarse)#nous dnne le ratio entre N_coarse et N_fine\n",
    "    diff = dt * numpy.sum(numpy.abs(u_coarse - u_fine[::ratio]))# c'est lors de cette somme qu'il est important de faire attention au ratio\n",
    "    return diff"
   ]
  },
  {
   "cell_type": "code",
   "execution_count": null,
   "metadata": {},
   "outputs": [],
   "source": [
    "\n",
    "\n",
    "# nous créons maintenant un tableau vide que l'on va remplir avec les différences calculées précédement\n",
    "diff_values = []\n",
    "\n",
    "for i, dt in enumerate(dt_values[:-1]):# on remplis le tableau\n",
    "    diff = l1_diff(u_values[i][:, 2], u_values[-1][:, 2], dt)\n",
    "    diff_values.append(diff)"
   ]
  },
  {
   "cell_type": "markdown",
   "metadata": {},
   "source": [
    "Afin de pouvoir observer quelque chose nous utiliserons la fonction loglog()"
   ]
  },
  {
   "cell_type": "code",
   "execution_count": null,
   "metadata": {},
   "outputs": [],
   "source": [
    "\n",
    "\n",
    "# nous faisons un graphique de la différence en fonction des dt_values\n",
    "pyplot.figure(figsize=(6.0, 6.0))\n",
    "pyplot.title('L1-norm difference en fonction du pas') # on pose le titre\n",
    "pyplot.xlabel('$\\Delta t$')  # on pose le nom des abscisses\n",
    "pyplot.ylabel('Difference')  # on pose le nom des ordonnées\n",
    "\n",
    "pyplot.loglog(dt_values[:-1], diff_values,\n",
    "              color='C0', linestyle='--', marker='o')  \n",
    "pyplot.axis('equal');  # on met les axes à la même échelle\n",
    "\n"
   ]
  },
  {
   "cell_type": "markdown",
   "metadata": {},
   "source": [
    "Nous allons maintenant calculer l'ordre de convergence. "
   ]
  },
  {
   "cell_type": "markdown",
   "metadata": {},
   "source": [
    "l'odre de convergence est donné par $p = \\frac{log(\\frac{f_3 - f_2}{f_2-f_1})}{log (r)} $."
   ]
  },
  {
   "cell_type": "code",
   "execution_count": null,
   "metadata": {},
   "outputs": [],
   "source": [
    "\n",
    "\n",
    "r = 2  # ratio de raffinement des intervalles dt\n",
    "h = 0.001  # dt le plus précis\n",
    "\n",
    "dt_values2 = [h, r * h, r**2 * h]#on crée un tableau avec nos valeurs de dt\n",
    "u_values2 = []# on crée un tableau vide que l'on remplira \n",
    "\n",
    "for dt in dt_values2:#cette boucle va remplir u_values avec des tableaux u que nous allons créer\n",
    "    N = int(T / dt) + 1  # nombre de sauts dans le temps\n",
    "   \n",
    "    u = numpy.empty((N, 4))#on crée un tableau vide qui reprendra les soltuions à chaque dt\n",
    "    \n",
    "    u[0] = numpy.array([theta1_0, theta2_0, p1_0, p2_0])# on pose les conditions initiales\n",
    "  \n",
    "    for n in range(N - 1):#on rempli les tableaux u pour chaque dt\n",
    "        u[n + 1] = step (rhs_double_pendule,u[n],dt,m,L)\n",
    "  \n",
    "    u_values2.append(u)#on rajoute chaque tableau u l'un après l'autre\n",
    "\n",
    "# on calcule f1-f2\n",
    "f2_f1 = l1_diff(u_values2[1][:, 2], u_values2[0][:, 2], dt_values2[1])\n",
    "# on calcul f3 - f2.\n",
    "f3_f2 = l1_diff(u_values2[2][:, 2], u_values2[1][:, 2], dt_values2[2])\n",
    "# on calcul l'ordre de convergence.\n",
    "p = math.log(f3_f2 / f2_f1) / math.log(r)\n",
    "print('ordre de convergence observé: p = {:.3f}'.format(p))\n",
    "\n"
   ]
  },
  {
   "cell_type": "markdown",
   "metadata": {},
   "source": [
    "\n",
    "\n",
    "\n",
    "Nous avons vu dans le cours que pour la méthode d'Euler, on obtient un résultat proche de 1.  Ici, on obtient un résultat de $p\\simeq 0,7$.\n",
    "On peut interpreter cela comme le fait que le taux de diminution des différences entre les résultats définis plus haut (en fonction du dt utilisé) est plus faible que r c'est à dire le taux de raffinement du maillage.\n",
    "On conclu que la fiabilité de la méthode RK4 est donc meilleure que celle de la méthode d'Euler pour un même pas dt donné. \n"
   ]
  }
 ],
 "metadata": {
  "kernelspec": {
   "display_name": "Python 3",
   "language": "python",
   "name": "python3"
  },
  "language_info": {
   "codemirror_mode": {
    "name": "ipython",
    "version": 3
   },
   "file_extension": ".py",
   "mimetype": "text/x-python",
   "name": "python",
   "nbconvert_exporter": "python",
   "pygments_lexer": "ipython3",
   "version": "3.7.0"
  }
 },
 "nbformat": 4,
 "nbformat_minor": 2
}
